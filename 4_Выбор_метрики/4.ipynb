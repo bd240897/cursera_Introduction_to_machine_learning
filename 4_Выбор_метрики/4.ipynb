{
 "cells": [
  {
   "cell_type": "code",
   "execution_count": 1,
   "metadata": {},
   "outputs": [],
   "source": [
    "import csv\n",
    "\n",
    "# def writer(name, a) :\n",
    "#     with open(('answ_'+str(name)+'.txt'), 'w') as w :\n",
    "#         csv.writer(w).writerow(a)\n",
    "\n",
    "def writer(name, a) :\n",
    "    with open(('answ_'+str(name)+'.txt'), 'w') as w :\n",
    "#         if isinstance(type(a), type(list)) :\n",
    "#             w.write(a)\n",
    "#         else:\n",
    "        w.write(str(a))"
   ]
  },
  {
   "cell_type": "code",
   "execution_count": null,
   "metadata": {},
   "outputs": [],
   "source": []
  },
  {
   "cell_type": "code",
   "execution_count": 5,
   "metadata": {
    "scrolled": false
   },
   "outputs": [],
   "source": [
    "import pandas as pd\n",
    "import numpy as np\n",
    "from sklearn.datasets import load_boston\n",
    "boston = load_boston()\n",
    "\n",
    "X = boston['data']\n",
    "Y = boston['target']"
   ]
  },
  {
   "cell_type": "code",
   "execution_count": 6,
   "metadata": {},
   "outputs": [],
   "source": [
    "from sklearn.preprocessing import scale\n",
    "X = scale(X)"
   ]
  },
  {
   "cell_type": "code",
   "execution_count": 18,
   "metadata": {},
   "outputs": [],
   "source": [
    "import numpy as np\n",
    "from sklearn.model_selection import cross_val_score\n",
    "from sklearn.neighbors import KNeighborsRegressor\n",
    "from sklearn.model_selection import KFold\n",
    "p_list = np.linspace(1,10,200)\n",
    "\n",
    "score_list = []\n",
    "for p in p_list :\n",
    "    estimator = KNeighborsRegressor(n_neighbors = 5,metric = 'minkowski', p = p, weights='distance')\n",
    "    cv = KFold(n_splits = 5 ,shuffle=True, random_state=42)\n",
    "    score = cross_val_score(estimator, X, Y, cv=cv, scoring='neg_mean_squared_error').mean()\n",
    "    score_list.append(score)\n"
   ]
  },
  {
   "cell_type": "code",
   "execution_count": 19,
   "metadata": {},
   "outputs": [
    {
     "data": {
      "text/plain": [
       "[<matplotlib.lines.Line2D at 0xe6e3888>]"
      ]
     },
     "execution_count": 19,
     "metadata": {},
     "output_type": "execute_result"
    },
    {
     "data": {
      "image/png": "[encoded data removed]",
      "text/plain": [
       "<Figure size 432x288 with 1 Axes>"
      ]
     },
     "metadata": {
      "needs_background": "light"
     },
     "output_type": "display_data"
    }
   ],
   "source": [
    "import matplotlib. pyplot as plt \n",
    "\n",
    "plt.plot(p_list, score_list)"
   ]
  },
  {
   "cell_type": "code",
   "execution_count": 20,
   "metadata": {},
   "outputs": [
    {
     "name": "stdout",
     "output_type": "stream",
     "text": [
      "1 -16.030646734221644\n"
     ]
    }
   ],
   "source": [
    "p_max = 0\n",
    "for i,j in enumerate(score_list):\n",
    "    if j == max(score_list):\n",
    "        p_max = i+1\n",
    "print(p_max, max(score_list))"
   ]
  },
  {
   "cell_type": "code",
   "execution_count": 22,
   "metadata": {},
   "outputs": [],
   "source": [
    "writer(41, p_max)"
   ]
  }
 ],
 "metadata": {
  "kernelspec": {
   "display_name": "Python 3",
   "language": "python",
   "name": "python3"
  },
  "language_info": {
   "codemirror_mode": {
    "name": "ipython",
    "version": 3
   },
   "file_extension": ".py",
   "mimetype": "text/x-python",
   "name": "python",
   "nbconvert_exporter": "python",
   "pygments_lexer": "ipython3",
   "version": "3.7.6"
  }
 },
 "nbformat": 4,
 "nbformat_minor": 4
}
