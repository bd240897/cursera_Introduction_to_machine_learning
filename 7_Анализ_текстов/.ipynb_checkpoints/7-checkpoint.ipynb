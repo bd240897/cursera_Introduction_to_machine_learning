{
 "cells": [
  {
   "cell_type": "code",
   "execution_count": 113,
   "metadata": {},
   "outputs": [],
   "source": [
    "import csv\n",
    "import numpy as np\n",
    "\n",
    "def writer(name, a) :\n",
    "    with open(('answ_'+str(name)+'.txt'), 'w') as w :\n",
    "        w.write(str(a))"
   ]
  },
  {
   "cell_type": "code",
   "execution_count": 114,
   "metadata": {},
   "outputs": [],
   "source": [
    "from sklearn import datasets\n",
    "\n",
    "newsgroups = datasets.fetch_20newsgroups(subset='all', categories=['alt.atheism', 'sci.space'])"
   ]
  },
  {
   "cell_type": "code",
   "execution_count": 115,
   "metadata": {},
   "outputs": [],
   "source": [
    "from sklearn.model_selection import train_test_split\n",
    "\n",
    "X = newsgroups.data\n",
    "Y = newsgroups.target\n",
    "\n",
    "# X_train, X_test, y_train, y_test = train_test_split(X, Y, test_size=0.25, random_state=42)"
   ]
  },
  {
   "cell_type": "code",
   "execution_count": 116,
   "metadata": {},
   "outputs": [],
   "source": [
    "from sklearn.feature_extraction.text import TfidfVectorizer\n",
    "vectorizer = TfidfVectorizer()\n",
    "\n",
    "X_transf = vectorizer.fit_transform(X)"
   ]
  },
  {
   "cell_type": "code",
   "execution_count": 117,
   "metadata": {},
   "outputs": [
    {
     "data": {
      "text/plain": [
       "GridSearchCV(cv=KFold(n_splits=5, random_state=241, shuffle=True),\n",
       "             error_score=nan,\n",
       "             estimator=SVC(C=1.0, break_ties=False, cache_size=200,\n",
       "                           class_weight=None, coef0=0.0,\n",
       "                           decision_function_shape='ovr', degree=3,\n",
       "                           gamma='scale', kernel='linear', max_iter=-1,\n",
       "                           probability=False, random_state=241, shrinking=True,\n",
       "                           tol=0.001, verbose=False),\n",
       "             iid='deprecated', n_jobs=None,\n",
       "             param_grid={'C': array([1.e-05, 1.e-04, 1.e-03, 1.e-02, 1.e-01, 1.e+00, 1.e+01, 1.e+02,\n",
       "       1.e+03, 1.e+04, 1.e+05])},\n",
       "             pre_dispatch='2*n_jobs', refit=True, return_train_score=False,\n",
       "             scoring='accuracy', verbose=0)"
      ]
     },
     "execution_count": 117,
     "metadata": {},
     "output_type": "execute_result"
    }
   ],
   "source": [
    "from sklearn.model_selection import GridSearchCV\n",
    "from sklearn.model_selection import KFold\n",
    "\n",
    "grid_map = {'C': np.power(10.0, np.arange(-5, 6))}\n",
    "\n",
    "cv = KFold(n_splits=5, shuffle=True, random_state=241)\n",
    "\n",
    "est2 = SVC(kernel='linear', random_state=241)\n",
    "grid_s = GridSearchCV(est, grid_map, scoring='accuracy', cv=cv)\n",
    "\n",
    "grid_s.fit(X_transf, Y)"
   ]
  },
  {
   "cell_type": "code",
   "execution_count": 128,
   "metadata": {},
   "outputs": [
    {
     "name": "stdout",
     "output_type": "stream",
     "text": [
      "1.0\n"
     ]
    }
   ],
   "source": [
    "C = grid_s.best_params_\n",
    "print(C['C'])\n",
    "C = C['C']"
   ]
  },
  {
   "cell_type": "code",
   "execution_count": 129,
   "metadata": {},
   "outputs": [
    {
     "data": {
      "text/plain": [
       "SVC(C=1.0, break_ties=False, cache_size=200, class_weight=None, coef0=0.0,\n",
       "    decision_function_shape='ovr', degree=3, gamma='scale', kernel='linear',\n",
       "    max_iter=-1, probability=False, random_state=241, shrinking=True, tol=0.001,\n",
       "    verbose=False)"
      ]
     },
     "execution_count": 129,
     "metadata": {},
     "output_type": "execute_result"
    }
   ],
   "source": [
    "est3 = SVC(kernel='linear', random_state=241, C = C)\n",
    "est3.fit(X_transf,Y)"
   ]
  },
  {
   "cell_type": "code",
   "execution_count": 134,
   "metadata": {},
   "outputs": [
    {
     "data": {
      "text/html": [
       "<div>\n",
       "<style scoped>\n",
       "    .dataframe tbody tr th:only-of-type {\n",
       "        vertical-align: middle;\n",
       "    }\n",
       "\n",
       "    .dataframe tbody tr th {\n",
       "        vertical-align: top;\n",
       "    }\n",
       "\n",
       "    .dataframe thead th {\n",
       "        text-align: right;\n",
       "    }\n",
       "</style>\n",
       "<table border=\"1\" class=\"dataframe\">\n",
       "  <thead>\n",
       "    <tr style=\"text-align: right;\">\n",
       "      <th></th>\n",
       "      <th>coef</th>\n",
       "      <th>word</th>\n",
       "      <th>coef_abs</th>\n",
       "    </tr>\n",
       "  </thead>\n",
       "  <tbody>\n",
       "    <tr>\n",
       "      <th>16693</th>\n",
       "      <td>2.663165</td>\n",
       "      <td>space</td>\n",
       "      <td>2.663165</td>\n",
       "    </tr>\n",
       "    <tr>\n",
       "      <th>18092</th>\n",
       "      <td>-1.920379</td>\n",
       "      <td>god</td>\n",
       "      <td>1.920379</td>\n",
       "    </tr>\n",
       "    <tr>\n",
       "      <th>17449</th>\n",
       "      <td>-1.254690</td>\n",
       "      <td>atheism</td>\n",
       "      <td>1.254690</td>\n",
       "    </tr>\n",
       "    <tr>\n",
       "      <th>17045</th>\n",
       "      <td>-1.249180</td>\n",
       "      <td>atheists</td>\n",
       "      <td>1.249180</td>\n",
       "    </tr>\n",
       "    <tr>\n",
       "      <th>9015</th>\n",
       "      <td>1.201611</td>\n",
       "      <td>moon</td>\n",
       "      <td>1.201611</td>\n",
       "    </tr>\n",
       "    <tr>\n",
       "      <th>17536</th>\n",
       "      <td>1.180132</td>\n",
       "      <td>sky</td>\n",
       "      <td>1.180132</td>\n",
       "    </tr>\n",
       "    <tr>\n",
       "      <th>16935</th>\n",
       "      <td>-1.139081</td>\n",
       "      <td>religion</td>\n",
       "      <td>1.139081</td>\n",
       "    </tr>\n",
       "    <tr>\n",
       "      <th>16746</th>\n",
       "      <td>-1.130612</td>\n",
       "      <td>bible</td>\n",
       "      <td>1.130612</td>\n",
       "    </tr>\n",
       "    <tr>\n",
       "      <th>17422</th>\n",
       "      <td>-1.097094</td>\n",
       "      <td>keith</td>\n",
       "      <td>1.097094</td>\n",
       "    </tr>\n",
       "    <tr>\n",
       "      <th>17469</th>\n",
       "      <td>1.029307</td>\n",
       "      <td>sci</td>\n",
       "      <td>1.029307</td>\n",
       "    </tr>\n",
       "  </tbody>\n",
       "</table>\n",
       "</div>"
      ],
      "text/plain": [
       "           coef      word  coef_abs\n",
       "16693  2.663165     space  2.663165\n",
       "18092 -1.920379       god  1.920379\n",
       "17449 -1.254690   atheism  1.254690\n",
       "17045 -1.249180  atheists  1.249180\n",
       "9015   1.201611      moon  1.201611\n",
       "17536  1.180132       sky  1.180132\n",
       "16935 -1.139081  religion  1.139081\n",
       "16746 -1.130612     bible  1.130612\n",
       "17422 -1.097094     keith  1.097094\n",
       "17469  1.029307       sci  1.029307"
      ]
     },
     "execution_count": 134,
     "metadata": {},
     "output_type": "execute_result"
    }
   ],
   "source": [
    "import pandas as pd\n",
    "# vectorizer.get_feature_names()\n",
    "words = np.array(vectorizer.get_feature_names())\n",
    "\n",
    "word_weights = pd.DataFrame()\n",
    "word_weights['coef'] = est3.coef_.data \n",
    "word_weights['word'] = words[est3.coef_.indices]\n",
    "word_weights.head()\n",
    "word_weights['coef_abs'] = word_weights['coef'].abs()\n",
    "word_weights.sort_values(by=['coef_abs'] , ascending=False).head(10)"
   ]
  },
  {
   "cell_type": "code",
   "execution_count": 140,
   "metadata": {},
   "outputs": [
    {
     "data": {
      "text/plain": [
       "0       eureca\n",
       "1     canadarm\n",
       "2     atlantis\n",
       "3       023220\n",
       "4    uuxpresso\n",
       "5        rwing\n",
       "6      bothell\n",
       "7    vaporizes\n",
       "8         vafb\n",
       "9       toured\n",
       "Name: word, dtype: object"
      ]
     },
     "execution_count": 140,
     "metadata": {},
     "output_type": "execute_result"
    }
   ],
   "source": []
  },
  {
   "cell_type": "code",
   "execution_count": 158,
   "metadata": {},
   "outputs": [],
   "source": [
    "input_list = word_weights.sort_values(by=['coef_abs'] , ascending=False)['word'][:10].to_list()\n",
    "input_list = sorted(input_list)\n",
    "with open(('answ_71.txt'), 'w') as w :\n",
    "    for item in input_list : \n",
    "        w.write(\"%s,\" % item) "
   ]
  }
 ],
 "metadata": {
  "kernelspec": {
   "display_name": "Python 3",
   "language": "python",
   "name": "python3"
  },
  "language_info": {
   "codemirror_mode": {
    "name": "ipython",
    "version": 3
   },
   "file_extension": ".py",
   "mimetype": "text/x-python",
   "name": "python",
   "nbconvert_exporter": "python",
   "pygments_lexer": "ipython3",
   "version": "3.7.6"
  }
 },
 "nbformat": 4,
 "nbformat_minor": 4
}
