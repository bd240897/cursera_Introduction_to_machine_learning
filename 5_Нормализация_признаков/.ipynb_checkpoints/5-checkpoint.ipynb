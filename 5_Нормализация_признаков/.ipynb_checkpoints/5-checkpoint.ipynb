{
 "cells": [
  {
   "cell_type": "code",
   "execution_count": 83,
   "metadata": {},
   "outputs": [],
   "source": [
    "import csv\n",
    "\n",
    "# def writer(name, a) :\n",
    "#     with open(('answ_'+str(name)+'.txt'), 'w') as w :\n",
    "#         csv.writer(w).writerow(a)\n",
    "\n",
    "def writer(name, a) :\n",
    "    with open(('answ_'+str(name)+'.txt'), 'w') as w :\n",
    "#         if isinstance(type(a), type(list)) :\n",
    "#             w.write(a)\n",
    "#         else:\n",
    "        w.write(str(a))"
   ]
  },
  {
   "cell_type": "code",
   "execution_count": null,
   "metadata": {},
   "outputs": [],
   "source": []
  },
  {
   "cell_type": "code",
   "execution_count": 84,
   "metadata": {
    "scrolled": false
   },
   "outputs": [],
   "source": [
    "import pandas as pd\n",
    "import numpy as np\n",
    "\n",
    "train = pd.read_csv('perceptron-train.csv.csv', header=None)\n",
    "X_train = train.loc[:, 1:]\n",
    "y_train = train[0]\n",
    "test = pd.read_csv('perceptron-test.csv.csv', header=None)\n",
    "X_test = test.loc[:, 1:]\n",
    "y_test = test[0]"
   ]
  },
  {
   "cell_type": "code",
   "execution_count": 85,
   "metadata": {},
   "outputs": [],
   "source": [
    "from sklearn.linear_model import Perceptron\n",
    "\n",
    "est = Perceptron(random_state=241)\n",
    "est.fit(X_train, y_train)\n",
    "y_pred = est.predict(X_train)"
   ]
  },
  {
   "cell_type": "code",
   "execution_count": 86,
   "metadata": {},
   "outputs": [
    {
     "name": "stdout",
     "output_type": "stream",
     "text": [
      "0.655\n"
     ]
    }
   ],
   "source": [
    "score = accuracy_score(est.predict(X_test), y_test)\n",
    "print(score)"
   ]
  },
  {
   "cell_type": "code",
   "execution_count": 91,
   "metadata": {},
   "outputs": [
    {
     "name": "stdout",
     "output_type": "stream",
     "text": [
      "0.84\n"
     ]
    }
   ],
   "source": [
    "from sklearn.preprocessing import StandardScaler\n",
    "scaler = StandardScaler()\n",
    "X_train_sc = scaler.fit_transform(X_train)\n",
    "X_test_sc = scaler.transform(X_test)\n",
    "\n",
    "est2 = Perceptron(max_iter=5, random_state=241, tol=None)\n",
    "est2.fit(X_train_sc, y_train)\n",
    "y_pred = est2.predict(X_train_sc)\n",
    "\n",
    "score2 = accuracy_score(est2.predict(X_test_sc), y_test)\n",
    "print(score2)\n",
    "\n"
   ]
  },
  {
   "cell_type": "code",
   "execution_count": 92,
   "metadata": {},
   "outputs": [],
   "source": [
    "writer(51,round(score2-score,3))"
   ]
  }
 ],
 "metadata": {
  "kernelspec": {
   "display_name": "Python 3",
   "language": "python",
   "name": "python3"
  },
  "language_info": {
   "codemirror_mode": {
    "name": "ipython",
    "version": 3
   },
   "file_extension": ".py",
   "mimetype": "text/x-python",
   "name": "python",
   "nbconvert_exporter": "python",
   "pygments_lexer": "ipython3",
   "version": "3.7.6"
  }
 },
 "nbformat": 4,
 "nbformat_minor": 4
}
